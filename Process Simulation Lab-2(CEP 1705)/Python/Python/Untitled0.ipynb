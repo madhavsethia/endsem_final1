{
 "metadata": {
  "name": ""
 },
 "nbformat": 3,
 "nbformat_minor": 0,
 "worksheets": [
  {
   "cells": [
    {
     "cell_type": "code",
     "collapsed": false,
     "input": [
      "from xlrd import open_workbook as ow"
     ],
     "language": "python",
     "metadata": {},
     "outputs": [],
     "prompt_number": 1
    },
    {
     "cell_type": "code",
     "collapsed": false,
     "input": [
      "print ow('names.xls')"
     ],
     "language": "python",
     "metadata": {},
     "outputs": [
      {
       "output_type": "stream",
       "stream": "stdout",
       "text": [
        "<xlrd.Book object at 0x01924470>\n"
       ]
      }
     ],
     "prompt_number": 3
    },
    {
     "cell_type": "code",
     "collapsed": false,
     "input": [
      "from mmap import mmap,ACCESS_READ\n",
      "from xlrd import open_workbook\n",
      "print open_workbook('names.xls')\n",
      "with open('names.xls','rb') as f:\n",
      "    print open_workbook(\n",
      "    file_contents=mmap(f.fileno(),0,access=ACCESS_READ)\n",
      "    )\n",
      "aString = open('names.xls','rb').read()\n",
      "print open_workbook(file_contents=aString)"
     ],
     "language": "python",
     "metadata": {},
     "outputs": [
      {
       "output_type": "stream",
       "stream": "stdout",
       "text": [
        "<xlrd.Book object at 0x0186FF90>\n",
        "<xlrd.Book object at 0x019AD230>\n",
        "<xlrd.Book object at 0x019C2570>"
       ]
      },
      {
       "output_type": "stream",
       "stream": "stdout",
       "text": [
        "\n"
       ]
      }
     ],
     "prompt_number": 4
    },
    {
     "cell_type": "code",
     "collapsed": false,
     "input": [
      "from xlrd import open_workbook\n",
      "wb = open_workbook('names.xls')\n",
      "for s in wb.sheets():\n",
      "    print 'Sheet:',s.name\n",
      "    for row in range(s.nrows):\n",
      "        values = []\n",
      "        for col in range(s.ncols):\n",
      "            values.append(s.cell(row,col).value)\n",
      "        print values\n",
      "    print"
     ],
     "language": "python",
     "metadata": {},
     "outputs": [
      {
       "output_type": "stream",
       "stream": "stdout",
       "text": [
        "Sheet: Sheet1\n",
        "[u'Sr.No.', u'Enrolment no.', u'Name']\n",
        "[1.0, u'R:201001011032', u'Yogesh Methekar']\n",
        "[2.0, u'R:201003073016', u'Ankush wanjari']\n",
        "[3.0, u'R:201003063015', u'Krunal Tembhurne']\n",
        "[4.0, u'11CHE1001', u'Sagar Udyavara']\n",
        "[5.0, u'11CHE1002', u'Varun Pandya']\n",
        "[6.0, u'11CHE1003', u'Prasad Shinde']\n",
        "[7.0, u'11CHE1004', u'Ruchi Jain']\n",
        "[8.0, u'11CHE1005', u'Vineet Venkatanarayanan']\n",
        "[9.0, u'11CHE1006', u'Tushar Mahendrakar']\n",
        "[10.0, u'11CHE1007', u'Karishma Attarkar']\n",
        "[11.0, u'11CHE1008', u'Tanmay Deshpande']\n",
        "[12.0, u'11CHE1009', u'Akshay Shah']\n",
        "[13.0, u'11CHE1010', u'Ashutosh Divekar']\n",
        "[14.0, u'11CHE1011', u'Mihit Parekh']\n",
        "[15.0, u'11CHE1012', u'Nutan Patil']\n",
        "[16.0, u'11CHE1013', u'Anish Acharya']\n",
        "[17.0, u'11CHE1014', u'Nilesh Ade']\n",
        "[18.0, u'11CHE1015', u'Saurabh Ailawar']\n",
        "[19.0, u'11CHE1016', u'Pooja Tilak']\n",
        "[20.0, u'11CHE1017', u'Swapnil Deshmukh']\n",
        "[21.0, u'11CHE1018', u'Neha Doshi']\n",
        "[22.0, u'11CHE1019', u'Kunal Mahanwar']\n",
        "[23.0, u'11CHE1020', u'Amala Bhagwat']\n",
        "[24.0, u'11CHE1021', u'Aditya Salunkhe']\n",
        "[25.0, u'11CHE1022', u'Ankur Jadhav']\n",
        "[26.0, u'11CHE1023', u'Pranjali Patil']\n",
        "[27.0, u'11CHE1024', u'Monica Kumta']\n",
        "[28.0, u'11CHE1025', u'Pratik Nikam']\n",
        "[29.0, u'11CHE1026', u'Ishan Potdar']\n",
        "[30.0, u'11CHE1027', u'Onkar Kulkarni']\n",
        "[31.0, u'11CHE1028', u'Shreyas Acharya']\n",
        "[32.0, u'11CHE1029', u'Snehal Tadge']\n",
        "[33.0, u'11CHE1030', u'Akshay Narkhede']\n",
        "[34.0, u'11CHE1031', u'Chetan Patil']\n",
        "[35.0, u'11CHE1032', u'Shrinath Ghadge']\n",
        "[36.0, u'11CHE1033', u'Neha Bhamre']\n",
        "[37.0, u'11CHE1034', u'Nikhil Mahajan']\n",
        "[38.0, u'11CHE1035', u'Sahil V. Bhujbal']\n",
        "[39.0, u'11CHE1036', u'Bhushan S.Patil']\n",
        "[40.0, u'11CHE1037', u'NIkita N.Ghode']\n",
        "[41.0, u'11CHE1038', u'Pooja Bhalode']\n",
        "[42.0, u'11CHE1039', u'Shantanu Pore']\n",
        "[43.0, u'11CHE1040', u'Bhushan S. Ghadage']\n",
        "[44.0, u'11CHE1041', u'Vrushali Gardare']\n",
        "[45.0, u'11CHE1042', u'Dhiraj Mhaske']\n",
        "[46.0, u'11CHE1043', u'Mohit Phalak']\n",
        "[47.0, u'11CHE1044', u'Nilabh Kajave']\n",
        "[48.0, u'11CHE1045', u'Prashant Kamble']\n",
        "[49.0, u'11CHE1046', u'Sharang Gaikwad']\n",
        "[50.0, u'11CHE1047', u'Ajinkya More']\n",
        "[51.0, u'11CHE1048', u'Kinjal Valendra']\n",
        "[52.0, u'11CHE1049', u'Mayuresh Chavan']\n",
        "[53.0, u'11CHE1050', u'Virendra Pawar']\n",
        "[54.0, u'11CHE1051', u'Neha Bakhre']\n",
        "[55.0, u'11CHE1052', u'Tejal Kamble']\n",
        "[56.0, u'11CHE1054', u'Ameya Ganme']\n",
        "[57.0, u'11CHE1055', u'Manish Tawade']\n",
        "[58.0, u'11CHE1056', u'Ruchita Sutar']\n",
        "[59.0, u'11CHE1057', u'Shishir Deshmankar']\n",
        "[60.0, u'11CHE1058', u'Deven Baser']\n",
        "[61.0, u'11CHE1059', u'Suraj Jagtap']\n",
        "[62.0, u'11CHE1060', u'Alec Desai']\n",
        "[63.0, u'11CHE1061', u'Shikhar Mundra']\n",
        "[64.0, u'11CHE1062', u'Achal Agrawal']\n",
        "[65.0, u'11CHE1063', u'Arjun gopal']\n",
        "[66.0, u'11CHE1065', u'Ashish Jayaraman']\n",
        "[67.0, u'11CHE1066', u'Utsav Gosalia']\n",
        "[68.0, u'11CHE1067', u'Chaitanya Sampat']\n",
        "[69.0, u'11CHE1068', u'aarish pathare']\n",
        "[70.0, u'11CHE1069', u'Dhruv Saxena']\n",
        "[71.0, u'11CHE1070', u'Kartik Kamat']\n",
        "[72.0, u'11CHE1071', u'Akash kumar srivastava']\n",
        "[73.0, u'11CHE1072', u'Paras Vora']\n",
        "[74.0, u'11CHE1073', u'Apoorva Sampat']\n",
        "[75.0, u'11CHE1074', u'Sidharth Mehta']\n",
        "[76.0, u'11CHE1075', u'Rohit Nagargoje']\n",
        "[77.0, u'11CHE1076', u'Nikhil Mayadeo']\n",
        "[78.0, u'11CHE1077', u'Sourav Bandyopadhyay']\n",
        "[79.0, u'11CHE1078', u'Utkarsh Shah']\n",
        "\n",
        "Sheet: Sheet2\n",
        "\n",
        "Sheet: Sheet3\n",
        "\n"
       ]
      }
     ],
     "prompt_number": 8
    },
    {
     "cell_type": "code",
     "collapsed": false,
     "input": [
      "from tempfile import TemporaryFile\n",
      "from xlwt import Workbook\n",
      "book = Workbook()\n",
      "sheet1 = book.add_sheet('Sheet 1')\n",
      "book.add_sheet('Sheet 2')\n",
      "sheet1.write(0,0,'A1')\n",
      "sheet1.write(0,1,'B1')\n",
      "row1 = sheet1.row(1)\n",
      "row1.write(0,'A2')\n",
      "row1.write(1,'B2')\n",
      "sheet1.col(0).width = 10000\n",
      "sheet2 = book.get_sheet(1)\n",
      "sheet2.row(0).write(0,'Sheet 2 A1')\n",
      "sheet2.row(0).write(1,'Sheet 2 B1')\n",
      "sheet2.flush_row_data()\n",
      "sheet2.write(1,0,'Sheet 2 A3')\n",
      "sheet2.col(0).width = 5000\n",
      "sheet2.col(0).hidden = True\n",
      "book.save('simple.xls')\n",
      "book.save(TemporaryFile())"
     ],
     "language": "python",
     "metadata": {},
     "outputs": [],
     "prompt_number": 1
    },
    {
     "cell_type": "code",
     "collapsed": false,
     "input": [],
     "language": "python",
     "metadata": {},
     "outputs": []
    }
   ],
   "metadata": {}
  }
 ]
}