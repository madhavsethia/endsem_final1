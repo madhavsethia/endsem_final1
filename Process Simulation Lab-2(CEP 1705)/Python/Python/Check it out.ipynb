{
 "metadata": {
  "name": ""
 },
 "nbformat": 3,
 "nbformat_minor": 0,
 "worksheets": [
  {
   "cells": [
    {
     "cell_type": "heading",
     "level": 1,
     "metadata": {},
     "source": [
      "Groups for Project"
     ]
    },
    {
     "cell_type": "markdown",
     "metadata": {},
     "source": [
      "Have written a code for random allotment.\n",
      "Yay, the result is stored in result.xls generated in the folder on running of function."
     ]
    },
    {
     "cell_type": "code",
     "collapsed": false,
     "input": [
      "import random1"
     ],
     "language": "python",
     "metadata": {},
     "outputs": [],
     "prompt_number": 1
    },
    {
     "cell_type": "raw",
     "metadata": {},
     "source": [
      "You can vary the batch size, please read the doc strings for further info."
     ]
    },
    {
     "cell_type": "code",
     "collapsed": false,
     "input": [
      "b = random1.rand_arrange(5)"
     ],
     "language": "python",
     "metadata": {},
     "outputs": [],
     "prompt_number": 2
    },
    {
     "cell_type": "markdown",
     "metadata": {},
     "source": [
      "Open up result.xls for the result. Thank You :)\n",
      "Suggestions are appreciated."
     ]
    }
   ],
   "metadata": {}
  }
 ]
}