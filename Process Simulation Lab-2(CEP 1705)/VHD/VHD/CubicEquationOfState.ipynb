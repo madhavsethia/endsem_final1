{
 "metadata": {
  "name": "CubicEquationOfState"
 },
 "nbformat": 3,
 "nbformat_minor": 0,
 "worksheets": [
  {
   "cells": [
    {
     "cell_type": "heading",
     "level": 1,
     "metadata": {},
     "source": [
      "Cubic Equations of State and How to Use Them"
     ]
    },
    {
     "cell_type": "heading",
     "level": 2,
     "metadata": {},
     "source": [
      "Introduction"
     ]
    },
    {
     "cell_type": "markdown",
     "metadata": {},
     "source": [
      "An equation of state relates thermodynamic quantities of a substance.  Although the most preferred relation would be one between temperature, pressure and a free energy (e.g. Gibbs or Helmholtz), the most common equations of state relate temperature and pressure with volume.  The most widely used among these are the Two Parameter Cubic Equations of State which have the following form: \\begin{equation} P = \\frac{RT}{v-b} - \\frac{a\\alpha(T)}{(v+\\epsilon b)(v+\\sigma b)} \\end{equation}\n",
      "Here $a$ and $b$ are given by: \\begin{equation} a = \\frac{\\Omega_aR^2T_c^2}{P_c} \\end{equation} and \\begin{equation} b = \\frac{\\Omega_bRT_c}{P_c} \\end{equation} where $T_c$ and $P_c$ are the critical temperature and pressure respectively.  $\\alpha(T)$ is itself a function of temperature and given by: \\begin{equation} \\alpha(T) = \\left(1+\\kappa \\left(1-\\sqrt{\\frac{T}{T_c}}\\right)\\right)^2 \\end{equation}.  Where $\\kappa$ is a function of the fluid's acentric factor $\\omega$."
     ]
    },
    {
     "cell_type": "heading",
     "level": 2,
     "metadata": {},
     "source": [
      "Importing Our First Container Objects"
     ]
    },
    {
     "cell_type": "markdown",
     "metadata": {},
     "source": [
      "We have already stored values of $P_c$, $T_c$ and $\\omega$ for Benzene in the file 'benzene.py': which is a $container-object$.  We can access those values simply be importing benzene as follows:"
     ]
    },
    {
     "cell_type": "code",
     "collapsed": false,
     "input": [
      "import  benzene"
     ],
     "language": "python",
     "metadata": {},
     "outputs": [],
     "prompt_number": 1
    },
    {
     "cell_type": "markdown",
     "metadata": {},
     "source": [
      "Now the critical pressure (in Pa), temperature (in K) and acentric factor (unitless) for benzene are:"
     ]
    },
    {
     "cell_type": "code",
     "collapsed": false,
     "input": [
      "benzene.Pc, benzene.Tc, benzene.acc"
     ],
     "language": "python",
     "metadata": {},
     "outputs": [
      {
       "output_type": "pyout",
       "prompt_number": 2,
       "text": [
        "(4895000.0, 562.05, 0.212)"
       ]
      }
     ],
     "prompt_number": 2
    },
    {
     "cell_type": "markdown",
     "metadata": {},
     "source": [
      "The Equation of State specific constants $\\Omega_a$, $\\Omega_b$, $\\epsilon$ and $\\sigma$ as well as formula for calculation $\\kappa$ and $\\alpha$ are stored in the container object called 'srk.py' for the Soave-Redlich-Kwong equation of state.  We can access them by importing srk.py as follows:"
     ]
    },
    {
     "cell_type": "code",
     "collapsed": false,
     "input": [
      "import srk"
     ],
     "language": "python",
     "metadata": {},
     "outputs": [],
     "prompt_number": 3
    },
    {
     "cell_type": "markdown",
     "metadata": {},
     "source": [
      "Hence, $\\Omega_a$, $\\Omega_b$, $\\epsilon$ and $\\sigma$ are:"
     ]
    },
    {
     "cell_type": "code",
     "collapsed": false,
     "input": [
      "srk.OmegaA, srk.OmegaB, srk.epsilon, srk.sigma"
     ],
     "language": "python",
     "metadata": {},
     "outputs": [
      {
       "output_type": "pyout",
       "prompt_number": 4,
       "text": [
        "(0.42748, 0.08644, 0.0, 1.0)"
       ]
      }
     ],
     "prompt_number": 4
    },
    {
     "cell_type": "heading",
     "level": 2,
     "metadata": {},
     "source": [
      "Our first Class and an introduction to Abstraction"
     ]
    },
    {
     "cell_type": "markdown",
     "metadata": {},
     "source": [
      "The next step is to combine the information in srk.py and benzene.py to be able to plot pressure as a function of molar volume for a given temperature.  The resulting curve is called an $isotherm$.  To do the combining, we have defined a called EOS and placed it in the container called eosClass.py.  We will import the container now."
     ]
    },
    {
     "cell_type": "code",
     "collapsed": false,
     "input": [
      "import eosClass"
     ],
     "language": "python",
     "metadata": {},
     "outputs": [],
     "prompt_number": 5
    },
    {
     "cell_type": "markdown",
     "metadata": {},
     "source": [
      "Inside the container 'eosClass' is the definition of the object-template called 'EOS'.  It is a template because several objects can be instanciated using it.  Lets instantiate an object that takes srk and applies it to benzene.  We will call this object Benzene."
     ]
    },
    {
     "cell_type": "code",
     "collapsed": false,
     "input": [
      "Benzene = eosClass.EOS(srk, benzene)"
     ],
     "language": "python",
     "metadata": {},
     "outputs": [],
     "prompt_number": 6
    },
    {
     "cell_type": "markdown",
     "metadata": {},
     "source": [
      "If you go over to the Spyder editor and take a look at eosClass.EOS, you will find that the arguments passed in the line above are those for the function called $\\_\\_init\\_\\_$.  This is called the $constructor$ of the class and it is executed entirely when an object of that type is first intanciated.  "
     ]
    },
    {
     "cell_type": "markdown",
     "metadata": {},
     "source": [
      "The object oriented approach has many advantages.  We can see this immediately when we realize that the parameters $a$ and $b$ have already been calculated by the EOS class and are accessible from it.  Hence, "
     ]
    },
    {
     "cell_type": "code",
     "collapsed": false,
     "input": [
      "Benzene.a, Benzene.b"
     ],
     "language": "python",
     "metadata": {},
     "outputs": [
      {
       "output_type": "pyout",
       "prompt_number": 7,
       "text": [
        "(1906922.5270022994, 0.08251768478610827)"
       ]
      }
     ],
     "prompt_number": 7
    },
    {
     "cell_type": "markdown",
     "metadata": {},
     "source": [
      "Now, lets recalculate $a$ and $b$ \"manually\","
     ]
    },
    {
     "cell_type": "code",
     "collapsed": false,
     "input": [
      "srk.OmegaA*8314.0**2*benzene.Tc**2/benzene.Pc, srk.OmegaB*8314.0*benzene.Tc/benzene.Pc"
     ],
     "language": "python",
     "metadata": {},
     "outputs": [
      {
       "output_type": "pyout",
       "prompt_number": 8,
       "text": [
        "(1906922.5270022994, 0.08251768478610827)"
       ]
      }
     ],
     "prompt_number": 8
    },
    {
     "cell_type": "heading",
     "level": 2,
     "metadata": {},
     "source": [
      "The Scipy Library"
     ]
    },
    {
     "cell_type": "markdown",
     "metadata": {},
     "source": [
      "They are clearly exactly the same, except we got them in a much cleaner, less messy manner.  This is called $abstraction$.  We abstracted the calculation of $a$ and $b$ inside the code, hiding it from the user (us) so that we can build on this to do more complex things.\n",
      "Lets now just use this powerful ability to calculate and plot P as a function of v for a given value of T."
     ]
    },
    {
     "cell_type": "code",
     "collapsed": false,
     "input": [
      "T = 500.0\n",
      "import scipy"
     ],
     "language": "python",
     "metadata": {},
     "outputs": [],
     "prompt_number": 9
    },
    {
     "cell_type": "markdown",
     "metadata": {},
     "source": [
      "Scientific Python (scipy) is a large collection of libraries meant for scientific calculations.  Among the various useful tools in scipy is a tool that quickly returns a grid.  Lets make a grid for molar volume.  Since pressure has a singularity at $v=b$, we will choose a safe grid between $1.1b$ and $100b$.  We do it as follows:"
     ]
    },
    {
     "cell_type": "code",
     "collapsed": false,
     "input": [
      "vv = scipy.linspace(1.1*Benzene.b, 100*Benzene.b, 100000)"
     ],
     "language": "python",
     "metadata": {},
     "outputs": [],
     "prompt_number": 10
    },
    {
     "cell_type": "markdown",
     "metadata": {},
     "source": [
      "The arguments for the scipy.linspace function are: initial point of grid, final point of the grid and number of grid points (inclusive on initial and final points).  So vv will be 100000 elements long as we can check for ourselves:"
     ]
    },
    {
     "cell_type": "code",
     "collapsed": false,
     "input": [
      "len(vv)"
     ],
     "language": "python",
     "metadata": {},
     "outputs": [
      {
       "output_type": "pyout",
       "prompt_number": 11,
       "text": [
        "100000"
       ]
      }
     ],
     "prompt_number": 11
    },
    {
     "cell_type": "markdown",
     "metadata": {},
     "source": [
      "Now, in the class EOS, we have abstracted a $method$ or to return pressure given temperature and volume.  We use this method to obtain an array of pressures corresponding to T and vv.  Hence:"
     ]
    },
    {
     "cell_type": "code",
     "collapsed": false,
     "input": [
      "pp = Benzene.P(T, vv)"
     ],
     "language": "python",
     "metadata": {},
     "outputs": [],
     "prompt_number": 12
    },
    {
     "cell_type": "code",
     "collapsed": false,
     "input": [
      "len(pp)"
     ],
     "language": "python",
     "metadata": {},
     "outputs": [
      {
       "output_type": "pyout",
       "prompt_number": 13,
       "text": [
        "100000"
       ]
      }
     ],
     "prompt_number": 13
    },
    {
     "cell_type": "heading",
     "level": 2,
     "metadata": {},
     "source": [
      "Plotting using pylab"
     ]
    },
    {
     "cell_type": "markdown",
     "metadata": {},
     "source": [
      "Lets now plot pressure vs volume for benzene as for a given temperature.  For this we will need to import some plotting libraries.  Lets do so now:"
     ]
    },
    {
     "cell_type": "code",
     "collapsed": false,
     "input": [
      "import pylab"
     ],
     "language": "python",
     "metadata": {},
     "outputs": [],
     "prompt_number": 14
    },
    {
     "cell_type": "markdown",
     "metadata": {},
     "source": [
      "Now pass the x-array, the y-array and the type of the plot.  Then we give an instruction to show the plot."
     ]
    },
    {
     "cell_type": "code",
     "collapsed": false,
     "input": [
      "pylab.plot(vv, pp, 'r'); pylab.show()"
     ],
     "language": "python",
     "metadata": {},
     "outputs": [],
     "prompt_number": 15
    },
    {
     "cell_type": "markdown",
     "metadata": {},
     "source": [
      "It opens in another window (as indicated by the * where there should be a number in the code numbering).  We can interact with the graph in various ways including zooming in to make it more insightful.  Then save it as an image.  We can now get that image here as follows:  "
     ]
    },
    {
     "cell_type": "heading",
     "level": 2,
     "metadata": {},
     "source": [
      "IPython Display"
     ]
    },
    {
     "cell_type": "code",
     "collapsed": false,
     "input": [
      "from IPython.display import Image\n",
      "img = Image(filename='eos_T500_Benzene_SRK.png')\n",
      "img"
     ],
     "language": "python",
     "metadata": {},
     "outputs": [
      {
       "output_type": "pyout",
       "png": "[encoded data removed]",
       "prompt_number": 16,
       "text": [
        "<IPython.core.display.Image at 0x545cef0>"
       ]
      }
     ],
     "prompt_number": 16
    },
    {
     "cell_type": "markdown",
     "metadata": {},
     "source": [
      "This is all well and good, but in process simulation, we are given T and P and almost never are we given T and v.  That presents a problem since the cubic equation of state is a cubic in v.  Hence it needs to be solved for the roots.  Now, solving the equation as it is written is very difficult and fraught with numerical round-off errors.  A further problem is that the vapor and liquid volumes are very different, again raising issues of numerical roundoff errors.  Still another problem is the singularity encountered at $v=b$ which makes solving more complex.  \n",
      "All of these problems can be neatly avoided once we recognize that the problem is actually a polynomial problem.  But before we transform it, lets get some help."
     ]
    },
    {
     "cell_type": "heading",
     "level": 2,
     "metadata": {},
     "source": [
      "Sympy!!  And all your algebra problems are gone!"
     ]
    },
    {
     "cell_type": "code",
     "collapsed": false,
     "input": [
      "from sympy import init_session\n",
      "init_session()"
     ],
     "language": "python",
     "metadata": {},
     "outputs": [
      {
       "output_type": "stream",
       "stream": "stdout",
       "text": [
        "\n",
        "Welcome to pylab, a matplotlib-based Python environment [backend: Qt4Agg].\n",
        "For more information, type 'help(pylab)'.\n"
       ]
      },
      {
       "output_type": "stream",
       "stream": "stdout",
       "text": [
        "IPython console for SymPy 0.7.2 (Python 2.7.3-32-bit) (ground types: python)\n",
        "\n",
        "These commands were executed:\n",
        ">>> from __future__ import division\n",
        ">>> from sympy import *\n",
        ">>> x, y, z, t = symbols('x y z t')\n",
        ">>> k, m, n = symbols('k m n', integer=True)\n",
        ">>> f, g, h = symbols('f g h', cls=Function)\n",
        "\n",
        "Documentation can be found at http://www.sympy.org\n"
       ]
      },
      {
       "output_type": "stream",
       "stream": "stderr",
       "text": [
        "C:\\Python27\\lib\\site-packages\\matplotlib\\__init__.py:921: UserWarning:  This call to matplotlib.use() has no effect\n",
        "because the the backend has already been chosen;\n",
        "matplotlib.use() must be called *before* pylab, matplotlib.pyplot,\n",
        "or matplotlib.backends is imported for the first time.\n",
        "\n",
        "  if warn: warnings.warn(_use_error_msg)\n"
       ]
      }
     ],
     "prompt_number": 17
    },
    {
     "cell_type": "heading",
     "level": 2,
     "metadata": {},
     "source": [
      "Transforming the Cubic Equation of State to a Monic Polynomial"
     ]
    },
    {
     "cell_type": "markdown",
     "metadata": {},
     "source": [
      "Great, lets define some symbols:"
     ]
    },
    {
     "cell_type": "code",
     "collapsed": false,
     "input": [
      "P, v, R, T, Z, a, b, alp, s, e = symbols('P, v, R, T, Z, a, b, alpha, sigma, epsilon')"
     ],
     "language": "python",
     "metadata": {},
     "outputs": [],
     "prompt_number": 18
    },
    {
     "cell_type": "markdown",
     "metadata": {},
     "source": [
      "Lets take a look at them:  very pretty!"
     ]
    },
    {
     "cell_type": "code",
     "collapsed": false,
     "input": [
      "P, v, R, T, Z, a, b, alp, s, e"
     ],
     "language": "python",
     "metadata": {},
     "outputs": [
      {
       "latex": [
        "$$\\begin{pmatrix}P, & v, & R, & T, & Z, & a, & b, & \\alpha, & \\sigma, & \\epsilon\\end{pmatrix}$$"
       ],
       "output_type": "pyout",
       "prompt_number": 19,
       "text": [
        "(P, v, R, T, Z, a, b, \u03b1, \u03c3, \u03b5)"
       ]
      }
     ],
     "prompt_number": 19
    },
    {
     "cell_type": "markdown",
     "metadata": {},
     "source": [
      "Alright, the RHS of the cubic equation of state is:"
     ]
    },
    {
     "cell_type": "code",
     "collapsed": false,
     "input": [
      "RHS = R*T/(v-b) - a*alp/(v+e*b)/(v+s*b); RHS"
     ],
     "language": "python",
     "metadata": {},
     "outputs": [
      {
       "latex": [
        "$$\\frac{R T}{- b + v} - \\frac{a \\alpha}{\\left(b \\epsilon + v\\right) \\left(b \\sigma + v\\right)}$$"
       ],
       "output_type": "pyout",
       "png": "[encoded data removed]",
       "prompt_number": 20,
       "text": [
        " R\u22c5T             a\u22c5\u03b1        \n",
        "\u2500\u2500\u2500\u2500\u2500\u2500 - \u2500\u2500\u2500\u2500\u2500\u2500\u2500\u2500\u2500\u2500\u2500\u2500\u2500\u2500\u2500\u2500\u2500\u2500\u2500\n",
        "-b + v   (b\u22c5\u03b5 + v)\u22c5(b\u22c5\u03c3 + v)"
       ]
      }
     ],
     "prompt_number": 20
    },
    {
     "cell_type": "markdown",
     "metadata": {},
     "source": [
      "Lets get it together:"
     ]
    },
    {
     "cell_type": "code",
     "collapsed": false,
     "input": [
      "RHS = RHS.together(); RHS"
     ],
     "language": "python",
     "metadata": {},
     "outputs": [
      {
       "latex": [
        "$$\\frac{R T \\left(b \\epsilon + v\\right) \\left(b \\sigma + v\\right) - a \\alpha \\left(- b + v\\right)}{\\left(- b + v\\right) \\left(b \\epsilon + v\\right) \\left(b \\sigma + v\\right)}$$"
       ],
       "output_type": "pyout",
       "png": "[encoded data removed]",
       "prompt_number": 21,
       "text": [
        "R\u22c5T\u22c5(b\u22c5\u03b5 + v)\u22c5(b\u22c5\u03c3 + v) - a\u22c5\u03b1\u22c5(-b + v)\n",
        "\u2500\u2500\u2500\u2500\u2500\u2500\u2500\u2500\u2500\u2500\u2500\u2500\u2500\u2500\u2500\u2500\u2500\u2500\u2500\u2500\u2500\u2500\u2500\u2500\u2500\u2500\u2500\u2500\u2500\u2500\u2500\u2500\u2500\u2500\u2500\u2500\u2500\u2500\n",
        "     (-b + v)\u22c5(b\u22c5\u03b5 + v)\u22c5(b\u22c5\u03c3 + v)     "
       ]
      }
     ],
     "prompt_number": 21
    },
    {
     "cell_type": "markdown",
     "metadata": {},
     "source": [
      "Lets now get the numerator and denominator separately using a neat trick."
     ]
    },
    {
     "cell_type": "code",
     "collapsed": false,
     "input": [
      "RHS = fraction(RHS); nr = RHS[0]; dr = RHS[1]; nr, dr"
     ],
     "language": "python",
     "metadata": {},
     "outputs": [
      {
       "latex": [
        "$$\\begin{pmatrix}R T \\left(b \\epsilon + v\\right) \\left(b \\sigma + v\\right) - a \\alpha \\left(- b + v\\right), & \\left(- b + v\\right) \\left(b \\epsilon + v\\right) \\left(b \\sigma + v\\right)\\end{pmatrix}$$"
       ],
       "output_type": "pyout",
       "prompt_number": 22,
       "text": [
        "(R\u22c5T\u22c5(b\u22c5\u03b5 + v)\u22c5(b\u22c5\u03c3 + v) - a\u22c5\u03b1\u22c5(-b + v), (-b + v)\u22c5(b\u22c5\u03b5 + v)\u22c5(b\u22c5\u03c3 + v))"
       ]
      }
     ],
     "prompt_number": 22
    },
    {
     "cell_type": "markdown",
     "metadata": {},
     "source": [
      "That is just wicked cool!  Now the denominator multiplies the LHS which is simply $P$ and the numerator get shifted to the LHS with a flipped sign to give two terms."
     ]
    },
    {
     "cell_type": "code",
     "collapsed": false,
     "input": [
      "term1 = P*dr; term2 = -nr; term1, term2"
     ],
     "language": "python",
     "metadata": {},
     "outputs": [
      {
       "latex": [
        "$$\\begin{pmatrix}P \\left(- b + v\\right) \\left(b \\epsilon + v\\right) \\left(b \\sigma + v\\right), & - R T \\left(b \\epsilon + v\\right) \\left(b \\sigma + v\\right) + a \\alpha \\left(- b + v\\right)\\end{pmatrix}$$"
       ],
       "output_type": "pyout",
       "prompt_number": 23,
       "text": [
        "(P\u22c5(-b + v)\u22c5(b\u22c5\u03b5 + v)\u22c5(b\u22c5\u03c3 + v), -R\u22c5T\u22c5(b\u22c5\u03b5 + v)\u22c5(b\u22c5\u03c3 + v) + a\u22c5\u03b1\u22c5(-b + v))"
       ]
      }
     ],
     "prompt_number": 23
    },
    {
     "cell_type": "markdown",
     "metadata": {},
     "source": [
      "And now it only remains to expand both of them to get the cubic (sort of):"
     ]
    },
    {
     "cell_type": "code",
     "collapsed": false,
     "input": [
      "expr = term1.expand() + term2.expand(); expr"
     ],
     "language": "python",
     "metadata": {},
     "outputs": [
      {
       "latex": [
        "$$- P b^{3} \\epsilon \\sigma + P b^{2} \\epsilon \\sigma v - P b^{2} \\epsilon v - P b^{2} \\sigma v + P b \\epsilon v^{2} + P b \\sigma v^{2} - P b v^{2} + P v^{3} - R T b^{2} \\epsilon \\sigma - R T b \\epsilon v - R T b \\sigma v - R T v^{2} - a \\alpha b + a \\alpha v$$"
       ],
       "output_type": "pyout",
       "png": "[encoded data removed]",
       "prompt_number": 24,
       "text": [
        "     3          2            2          2              2          2        2  \n",
        "- P\u22c5b \u22c5\u03b5\u22c5\u03c3 + P\u22c5b \u22c5\u03b5\u22c5\u03c3\u22c5v - P\u22c5b \u22c5\u03b5\u22c5v - P\u22c5b \u22c5\u03c3\u22c5v + P\u22c5b\u22c5\u03b5\u22c5v  + P\u22c5b\u22c5\u03c3\u22c5v  - P\u22c5b\u22c5v  +\n",
        "\n",
        "    3        2                                    2                \n",
        " P\u22c5v  - R\u22c5T\u22c5b \u22c5\u03b5\u22c5\u03c3 - R\u22c5T\u22c5b\u22c5\u03b5\u22c5v - R\u22c5T\u22c5b\u22c5\u03c3\u22c5v - R\u22c5T\u22c5v  - a\u22c5\u03b1\u22c5b + a\u22c5\u03b1\u22c5v"
       ]
      }
     ],
     "prompt_number": 24
    },
    {
     "cell_type": "markdown",
     "metadata": {},
     "source": [
      "But we still haven't overcome the problem of large differences in v of gas and liquid.  Lets do that by defining $Z=\\frac{Pv}{RT}$.  And now we have another little trick:"
     ]
    },
    {
     "cell_type": "code",
     "collapsed": false,
     "input": [
      "expr = expr.subs(v, Z*R*T/P); expr"
     ],
     "language": "python",
     "metadata": {},
     "outputs": [
      {
       "latex": [
        "$$- P b^{3} \\epsilon \\sigma + R T Z b^{2} \\epsilon \\sigma - R T Z b^{2} \\epsilon - R T Z b^{2} \\sigma - R T b^{2} \\epsilon \\sigma - a \\alpha b + \\frac{R^{2} T^{2} Z^{2} b \\epsilon}{P} + \\frac{R^{2} T^{2} Z^{2} b \\sigma}{P} - \\frac{R^{2} T^{2} Z^{2} b}{P} - \\frac{R^{2} T^{2} Z b \\epsilon}{P} - \\frac{R^{2} T^{2} Z b \\sigma}{P} + \\frac{R T Z a \\alpha}{P} + \\frac{R^{3} T^{3} Z^{3}}{P^{2}} - \\frac{R^{3} T^{3} Z^{2}}{P^{2}}$$"
       ],
       "output_type": "pyout",
       "png": "[encoded data removed]",
       "prompt_number": 25,
       "text": [
        "                                                                            2 \n",
        "     3              2              2            2          2               R \u22c5\n",
        "- P\u22c5b \u22c5\u03b5\u22c5\u03c3 + R\u22c5T\u22c5Z\u22c5b \u22c5\u03b5\u22c5\u03c3 - R\u22c5T\u22c5Z\u22c5b \u22c5\u03b5 - R\u22c5T\u22c5Z\u22c5b \u22c5\u03c3 - R\u22c5T\u22c5b \u22c5\u03b5\u22c5\u03c3 - a\u22c5\u03b1\u22c5b + \u2500\u2500\u2500\n",
        "                                                                              \n",
        "                                                                              \n",
        "\n",
        " 2  2        2  2  2        2  2  2      2  2          2  2                   \n",
        "T \u22c5Z \u22c5b\u22c5\u03b5   R \u22c5T \u22c5Z \u22c5b\u22c5\u03c3   R \u22c5T \u22c5Z \u22c5b   R \u22c5T \u22c5Z\u22c5b\u22c5\u03b5   R \u22c5T \u22c5Z\u22c5b\u22c5\u03c3   R\u22c5T\u22c5Z\u22c5a\u22c5\u03b1 \n",
        "\u2500\u2500\u2500\u2500\u2500\u2500\u2500\u2500\u2500 + \u2500\u2500\u2500\u2500\u2500\u2500\u2500\u2500\u2500\u2500\u2500\u2500 - \u2500\u2500\u2500\u2500\u2500\u2500\u2500\u2500\u2500\u2500 - \u2500\u2500\u2500\u2500\u2500\u2500\u2500\u2500\u2500\u2500\u2500 - \u2500\u2500\u2500\u2500\u2500\u2500\u2500\u2500\u2500\u2500\u2500 + \u2500\u2500\u2500\u2500\u2500\u2500\u2500\u2500\u2500 \n",
        "  P              P             P             P             P            P     \n",
        "                                                                              \n",
        "\n",
        "   3  3  3    3  3  2\n",
        "  R \u22c5T \u22c5Z    R \u22c5T \u22c5Z \n",
        "+ \u2500\u2500\u2500\u2500\u2500\u2500\u2500\u2500 - \u2500\u2500\u2500\u2500\u2500\u2500\u2500\u2500\n",
        "      2          2   \n",
        "     P          P    "
       ]
      }
     ],
     "prompt_number": 25
    },
    {
     "cell_type": "markdown",
     "metadata": {},
     "source": [
      "That is just mad!  If only we could collect like terms ... Hang on! We can ..."
     ]
    },
    {
     "cell_type": "code",
     "collapsed": false,
     "input": [
      "collect(expr, Z)"
     ],
     "language": "python",
     "metadata": {},
     "outputs": [
      {
       "latex": [
        "$$- P b^{3} \\epsilon \\sigma - R T b^{2} \\epsilon \\sigma + Z^{2} \\left(\\frac{R^{2} T^{2} b \\epsilon}{P} + \\frac{R^{2} T^{2} b \\sigma}{P} - \\frac{R^{2} T^{2} b}{P} - \\frac{R^{3} T^{3}}{P^{2}}\\right) + Z \\left(R T b^{2} \\epsilon \\sigma - R T b^{2} \\epsilon - R T b^{2} \\sigma - \\frac{R^{2} T^{2} b \\epsilon}{P} - \\frac{R^{2} T^{2} b \\sigma}{P} + \\frac{R T a \\alpha}{P}\\right) - a \\alpha b + \\frac{R^{3} T^{3} Z^{3}}{P^{2}}$$"
       ],
       "output_type": "pyout",
       "png": "[encoded data removed]",
       "prompt_number": 26,
       "text": [
        "                             \u239b 2  2        2  2        2  2      3  3\u239e     \u239b  \n",
        "     3            2        2 \u239cR \u22c5T \u22c5b\u22c5\u03b5   R \u22c5T \u22c5b\u22c5\u03c3   R \u22c5T \u22c5b   R \u22c5T \u239f     \u239c  \n",
        "- P\u22c5b \u22c5\u03b5\u22c5\u03c3 - R\u22c5T\u22c5b \u22c5\u03b5\u22c5\u03c3 + Z \u22c5\u239c\u2500\u2500\u2500\u2500\u2500\u2500\u2500\u2500\u2500 + \u2500\u2500\u2500\u2500\u2500\u2500\u2500\u2500\u2500 - \u2500\u2500\u2500\u2500\u2500\u2500\u2500 - \u2500\u2500\u2500\u2500\u2500\u239f + Z\u22c5\u239cR\u22c5\n",
        "                             \u239c    P           P          P         2 \u239f     \u239d  \n",
        "                             \u239d                                    P  \u23a0        \n",
        "\n",
        "                                  2  2        2  2              \u239e            3\n",
        "   2            2          2     R \u22c5T \u22c5b\u22c5\u03b5   R \u22c5T \u22c5b\u22c5\u03c3   R\u22c5T\u22c5a\u22c5\u03b1\u239f           R \n",
        "T\u22c5b \u22c5\u03b5\u22c5\u03c3 - R\u22c5T\u22c5b \u22c5\u03b5 - R\u22c5T\u22c5b \u22c5\u03c3 - \u2500\u2500\u2500\u2500\u2500\u2500\u2500\u2500\u2500 - \u2500\u2500\u2500\u2500\u2500\u2500\u2500\u2500\u2500 + \u2500\u2500\u2500\u2500\u2500\u2500\u2500\u239f - a\u22c5\u03b1\u22c5b + \u2500\u2500\n",
        "                                     P           P          P   \u23a0             \n",
        "                                                                              \n",
        "\n",
        "  3  3\n",
        "\u22c5T \u22c5Z \n",
        "\u2500\u2500\u2500\u2500\u2500\u2500\n",
        "  2   \n",
        " P    "
       ]
      }
     ],
     "prompt_number": 26
    },
    {
     "cell_type": "markdown",
     "metadata": {},
     "source": [
      "Wow!  But there is something multiplying $Z^3$.  Thats no good.  Lets turn this into a monic polynomial ..."
     ]
    },
    {
     "cell_type": "code",
     "collapsed": false,
     "input": [
      "expr = (expr*P**2/R**3/T**3).expand(); expr"
     ],
     "language": "python",
     "metadata": {},
     "outputs": [
      {
       "latex": [
        "$$- \\frac{P^{3} b^{3} \\epsilon \\sigma}{R^{3} T^{3}} + \\frac{P^{2} Z b^{2} \\epsilon \\sigma}{R^{2} T^{2}} - \\frac{P^{2} Z b^{2} \\epsilon}{R^{2} T^{2}} - \\frac{P^{2} Z b^{2} \\sigma}{R^{2} T^{2}} - \\frac{P^{2} b^{2} \\epsilon \\sigma}{R^{2} T^{2}} - \\frac{P^{2} a \\alpha b}{R^{3} T^{3}} + \\frac{P Z^{2} b \\epsilon}{R T} + \\frac{P Z^{2} b \\sigma}{R T} - \\frac{P Z^{2} b}{R T} - \\frac{P Z b \\epsilon}{R T} - \\frac{P Z b \\sigma}{R T} + \\frac{P Z a \\alpha}{R^{2} T^{2}} + Z^{3} - Z^{2}$$"
       ],
       "output_type": "pyout",
       "png": "[encoded data removed]",
       "prompt_number": 27,
       "text": [
        "   3  3        2    2        2    2      2    2      2  2        2            \n",
        "  P \u22c5b \u22c5\u03b5\u22c5\u03c3   P \u22c5Z\u22c5b \u22c5\u03b5\u22c5\u03c3   P \u22c5Z\u22c5b \u22c5\u03b5   P \u22c5Z\u22c5b \u22c5\u03c3   P \u22c5b \u22c5\u03b5\u22c5\u03c3   P \u22c5a\u22c5\u03b1\u22c5b   P\u22c5Z\n",
        "- \u2500\u2500\u2500\u2500\u2500\u2500\u2500\u2500\u2500 + \u2500\u2500\u2500\u2500\u2500\u2500\u2500\u2500\u2500\u2500\u2500 - \u2500\u2500\u2500\u2500\u2500\u2500\u2500\u2500\u2500 - \u2500\u2500\u2500\u2500\u2500\u2500\u2500\u2500\u2500 - \u2500\u2500\u2500\u2500\u2500\u2500\u2500\u2500\u2500 - \u2500\u2500\u2500\u2500\u2500\u2500\u2500\u2500 + \u2500\u2500\u2500\n",
        "     3  3         2  2         2  2        2  2        2  2       3  3       R\n",
        "    R \u22c5T         R \u22c5T         R \u22c5T        R \u22c5T        R \u22c5T       R \u22c5T         \n",
        "\n",
        "2          2          2                                          \n",
        " \u22c5b\u22c5\u03b5   P\u22c5Z \u22c5b\u22c5\u03c3   P\u22c5Z \u22c5b   P\u22c5Z\u22c5b\u22c5\u03b5   P\u22c5Z\u22c5b\u22c5\u03c3   P\u22c5Z\u22c5a\u22c5\u03b1    3    2\n",
        "\u2500\u2500\u2500\u2500\u2500 + \u2500\u2500\u2500\u2500\u2500\u2500\u2500\u2500 - \u2500\u2500\u2500\u2500\u2500\u2500 - \u2500\u2500\u2500\u2500\u2500\u2500\u2500 - \u2500\u2500\u2500\u2500\u2500\u2500\u2500 + \u2500\u2500\u2500\u2500\u2500\u2500\u2500 + Z  - Z \n",
        "\u22c5T        R\u22c5T       R\u22c5T       R\u22c5T       R\u22c5T       2  2           \n",
        "                                                 R \u22c5T            "
       ]
      }
     ],
     "prompt_number": 27
    },
    {
     "cell_type": "markdown",
     "metadata": {},
     "source": [
      "It appears that we can identify certain groups.  One is $p_p = \\frac{Pb}{RT}$ and the other is $a_p=\\frac{Pa\\alpha}{R^2T^2}$.  Lets define them and substitute."
     ]
    },
    {
     "cell_type": "code",
     "collapsed": false,
     "input": [
      "ap, pp = symbols('a_p, p_p'); exprpp = expr.subs(P*b/R/T, pp); exprap = exprpp.subs(P*a*alp/R**2/T**2, ap); exprap"
     ],
     "language": "python",
     "metadata": {},
     "outputs": [
      {
       "latex": [
        "$$Z^{3} + Z^{2} \\epsilon p_{p} + Z^{2} p_{p} \\sigma - Z^{2} p_{p} - Z^{2} + Z a_{p} + Z \\epsilon p_{p}^{2} \\sigma - Z \\epsilon p_{p}^{2} - Z \\epsilon p_{p} - Z p_{p}^{2} \\sigma - Z p_{p} \\sigma - a_{p} p_{p} - \\epsilon p_{p}^{3} \\sigma - \\epsilon p_{p}^{2} \\sigma$$"
       ],
       "output_type": "pyout",
       "png": "[encoded data removed]",
       "prompt_number": 28,
       "text": [
        " 3    2          2          2        2                  2            2        \n",
        "Z  + Z \u22c5\u03b5\u22c5p_p + Z \u22c5p_p\u22c5\u03c3 - Z \u22c5p_p - Z  + Z\u22c5a_p + Z\u22c5\u03b5\u22c5p_p \u22c5\u03c3 - Z\u22c5\u03b5\u22c5p_p  - Z\u22c5\u03b5\u22c5p\n",
        "\n",
        "          2                              3          2  \n",
        "_p - Z\u22c5p_p \u22c5\u03c3 - Z\u22c5p_p\u22c5\u03c3 - a_p\u22c5p_p - \u03b5\u22c5p_p \u22c5\u03c3 - \u03b5\u22c5p_p \u22c5\u03c3"
       ]
      }
     ],
     "prompt_number": 28
    },
    {
     "cell_type": "markdown",
     "metadata": {},
     "source": [
      "Lets collect now: "
     ]
    },
    {
     "cell_type": "code",
     "collapsed": false,
     "input": [
      "expr = collect(exprap, Z); expr"
     ],
     "language": "python",
     "metadata": {},
     "outputs": [
      {
       "latex": [
        "$$Z^{3} + Z^{2} \\left(\\epsilon p_{p} + p_{p} \\sigma - p_{p} -1\\right) + Z \\left(a_{p} + \\epsilon p_{p}^{2} \\sigma - \\epsilon p_{p}^{2} - \\epsilon p_{p} - p_{p}^{2} \\sigma - p_{p} \\sigma\\right) - a_{p} p_{p} - \\epsilon p_{p}^{3} \\sigma - \\epsilon p_{p}^{2} \\sigma$$"
       ],
       "output_type": "pyout",
       "png": "[encoded data removed]",
       "prompt_number": 29,
       "text": [
        " 3    2                               \u239b           2          2              2 \n",
        "Z  + Z \u22c5(\u03b5\u22c5p_p + p_p\u22c5\u03c3 - p_p - 1) + Z\u22c5\u239da_p + \u03b5\u22c5p_p \u22c5\u03c3 - \u03b5\u22c5p_p  - \u03b5\u22c5p_p - p_p \u22c5\n",
        "\n",
        "         \u239e                  3          2  \n",
        "\u03c3 - p_p\u22c5\u03c3\u23a0 - a_p\u22c5p_p - \u03b5\u22c5p_p \u22c5\u03c3 - \u03b5\u22c5p_p \u22c5\u03c3"
       ]
      }
     ],
     "prompt_number": 29
    },
    {
     "cell_type": "markdown",
     "metadata": {},
     "source": [
      "But we can also get the coefficients separately:"
     ]
    },
    {
     "cell_type": "code",
     "collapsed": false,
     "input": [
      "a0 = expr.coeff(Z, 0); a1 = expr.coeff(Z, 1); a2 = expr.coeff(Z, 2); a3 = expr.coeff(Z, 3); a0, a1, a2, a3"
     ],
     "language": "python",
     "metadata": {},
     "outputs": [
      {
       "latex": [
        "$$\\begin{pmatrix}- a_{p} p_{p} - \\epsilon p_{p}^{3} \\sigma - \\epsilon p_{p}^{2} \\sigma, & a_{p} + \\epsilon p_{p}^{2} \\sigma - \\epsilon p_{p}^{2} - \\epsilon p_{p} - p_{p}^{2} \\sigma - p_{p} \\sigma, & \\epsilon p_{p} + p_{p} \\sigma - p_{p} -1, & 1\\end{pmatrix}$$"
       ],
       "output_type": "pyout",
       "prompt_number": 30,
       "text": [
        "\u239b                3          2               2          2              2       \n",
        "\u239d-a_p\u22c5p_p - \u03b5\u22c5p_p \u22c5\u03c3 - \u03b5\u22c5p_p \u22c5\u03c3, a_p + \u03b5\u22c5p_p \u22c5\u03c3 - \u03b5\u22c5p_p  - \u03b5\u22c5p_p - p_p \u22c5\u03c3 - p_\n",
        "\n",
        "                               \u239e\n",
        "p\u22c5\u03c3, \u03b5\u22c5p_p + p_p\u22c5\u03c3 - p_p - 1, 1\u23a0"
       ]
      }
     ],
     "prompt_number": 30
    },
    {
     "cell_type": "markdown",
     "metadata": {},
     "source": [
      "Lets get the coefficients in a form we can use in our code:"
     ]
    },
    {
     "cell_type": "code",
     "collapsed": false,
     "input": [
      "print a0"
     ],
     "language": "python",
     "metadata": {},
     "outputs": [
      {
       "output_type": "stream",
       "stream": "stdout",
       "text": [
        "-a_p*p_p - epsilon*p_p**3*sigma - epsilon*p_p**2*sigma\n"
       ]
      }
     ],
     "prompt_number": 31
    },
    {
     "cell_type": "code",
     "collapsed": false,
     "input": [
      "print a1"
     ],
     "language": "python",
     "metadata": {},
     "outputs": [
      {
       "output_type": "stream",
       "stream": "stdout",
       "text": [
        "a_p + epsilon*p_p**2*sigma - epsilon*p_p**2 - epsilon*p_p - p_p**2*sigma - p_p*sigma\n"
       ]
      }
     ],
     "prompt_number": 32
    },
    {
     "cell_type": "code",
     "collapsed": false,
     "input": [
      "print a2"
     ],
     "language": "python",
     "metadata": {},
     "outputs": [
      {
       "output_type": "stream",
       "stream": "stdout",
       "text": [
        "epsilon*p_p + p_p*sigma - p_p - 1\n"
       ]
      }
     ],
     "prompt_number": 33
    },
    {
     "cell_type": "code",
     "collapsed": false,
     "input": [
      "print a3"
     ],
     "language": "python",
     "metadata": {},
     "outputs": [
      {
       "output_type": "stream",
       "stream": "stdout",
       "text": [
        "1\n"
       ]
      }
     ],
     "prompt_number": 34
    },
    {
     "cell_type": "heading",
     "level": 2,
     "metadata": {},
     "source": [
      "Putting Numbers:"
     ]
    },
    {
     "cell_type": "markdown",
     "metadata": {},
     "source": [
      "We can straightaway use them in our code and we have.  Just to check though, lets do some \"manual\" work.  We pick the T=500K isotherm (plotted above) and pick $P=10^6Pa$ pressure which should give us three real roots.  Note that everywhere we have used $R=8314.0 \\frac{J}{kmol-K}$."
     ]
    },
    {
     "cell_type": "code",
     "collapsed": false,
     "input": [
      "T = 500.0; P = 1e6; alpha = srk.alpha(T/benzene.Tc, benzene.acc); a = srk.OmegaA*8314.0**2*benzene.Tc**2/benzene.Pc; b = srk.OmegaB*8314.0*benzene.Tc/benzene.Pc\n",
      "a_p = P*a*alpha/8314**2/T**2; p_p = P*b/8314.0/T; epsilon = srk.epsilon; sigma = srk.sigma"
     ],
     "language": "python",
     "metadata": {},
     "outputs": [],
     "prompt_number": 38
    },
    {
     "cell_type": "markdown",
     "metadata": {},
     "source": [
      "Hence, the coefficients are (just copy and paste from the lines above):"
     ]
    },
    {
     "cell_type": "code",
     "collapsed": false,
     "input": [
      "a_0 = -a_p*p_p - epsilon*p_p**3*sigma - epsilon*p_p**2*sigma\n",
      "a_1 = a_p + epsilon*p_p**2*sigma - epsilon*p_p**2 - epsilon*p_p - p_p**2*sigma - p_p*sigma\n",
      "a_2 = epsilon*p_p + p_p*sigma - p_p - 1\n",
      "a_3 = 1.0"
     ],
     "language": "python",
     "metadata": {},
     "outputs": [],
     "prompt_number": 39
    },
    {
     "cell_type": "heading",
     "level": 2,
     "metadata": {},
     "source": [
      "Getting Roots of A Polynomial: scipy.roots"
     ]
    },
    {
     "cell_type": "markdown",
     "metadata": {},
     "source": [
      "Now we have everything to get the roots of the cubic.  We now will use a special function from the scipy library that takes in the coefficients as a list (highest order first, constant last) and returns all the roots.  A cubic will have 3 roots of which all may be real or just one may be real and the others complex conjugates of each other.  Hence the roots are:"
     ]
    },
    {
     "cell_type": "code",
     "collapsed": false,
     "input": [
      "roots = scipy.roots([a_3, a_2, a_1, a_0]); roots"
     ],
     "language": "python",
     "metadata": {},
     "outputs": [
      {
       "output_type": "pyout",
       "prompt_number": 41,
       "text": [
        "[ 0.89019298  0.0728829   0.03692412]"
       ]
      }
     ],
     "prompt_number": 41
    },
    {
     "cell_type": "markdown",
     "metadata": {},
     "source": [
      "Clearly we have three real roots.  Now only the maximum and minimum of these have physical meaning.  The middle roots occurs in the unphysical branch of the $P$ vs $v$ isotherm where $\\frac{\\partial{P}}{{\\partial{v}}}>0$ and is ignored.  Hence,"
     ]
    },
    {
     "cell_type": "code",
     "collapsed": false,
     "input": [
      "ZL = min(roots); ZG = max(roots)"
     ],
     "language": "python",
     "metadata": {},
     "outputs": [],
     "prompt_number": 42
    },
    {
     "cell_type": "markdown",
     "metadata": {},
     "source": [
      "Lets see what they look like!"
     ]
    },
    {
     "cell_type": "code",
     "collapsed": false,
     "input": [
      "ZL, ZG"
     ],
     "language": "python",
     "metadata": {},
     "outputs": [
      {
       "latex": [
        "$$\\begin{pmatrix}0.0369241213247, & 0.890192980998\\end{pmatrix}$$"
       ],
       "output_type": "pyout",
       "prompt_number": 43,
       "text": [
        "(0.0369241213247, 0.890192980998)"
       ]
      }
     ],
     "prompt_number": 43
    },
    {
     "cell_type": "markdown",
     "metadata": {},
     "source": [
      "But we have $abstracted$ this same code in the method attribute $Z(T,P)$ of the $Class EOS$ in $eosClass.py$.  We have already instanciated an object of that class as $Benzene$.  So lets use it!"
     ]
    },
    {
     "cell_type": "code",
     "collapsed": false,
     "input": [
      "[ZL, ZG] = Benzene.Z(T, P); ZL, ZG"
     ],
     "language": "python",
     "metadata": {},
     "outputs": [
      {
       "latex": [
        "$$\\begin{pmatrix}0.0369241213247, & 0.890192980998\\end{pmatrix}$$"
       ],
       "output_type": "pyout",
       "prompt_number": 46,
       "text": [
        "(0.0369241213247, 0.890192980998)"
       ]
      }
     ],
     "prompt_number": 46
    },
    {
     "cell_type": "markdown",
     "metadata": {},
     "source": [
      "Exactly the same, and with just a fraction of the effort!  And without making any mistakes. "
     ]
    },
    {
     "cell_type": "heading",
     "level": 2,
     "metadata": {},
     "source": [
      "Modularity"
     ]
    },
    {
     "cell_type": "markdown",
     "metadata": {},
     "source": [
      " But what if I want it for methane and using the Peng Robinson equation of state? No sweat!"
     ]
    },
    {
     "cell_type": "code",
     "collapsed": false,
     "input": [
      "import methane; import pr; Methane = eosClass.EOS(pr, methane)\n",
      "Methane.Z(T, P)"
     ],
     "language": "python",
     "metadata": {},
     "outputs": [
      {
       "output_type": "pyout",
       "prompt_number": 47,
       "text": [
        "[ 0.99832131]"
       ]
      }
     ],
     "prompt_number": 47
    },
    {
     "cell_type": "markdown",
     "metadata": {},
     "source": [
      "Of course, the temperature is much higher than the critical temperature of methane which is:"
     ]
    },
    {
     "cell_type": "code",
     "collapsed": false,
     "input": [
      "methane.Tc"
     ],
     "language": "python",
     "metadata": {},
     "outputs": [
      {
       "output_type": "pyout",
       "png": "[encoded data removed]",
       "prompt_number": 48,
       "text": [
        "190.5"
       ]
      }
     ],
     "prompt_number": 48
    },
    {
     "cell_type": "markdown",
     "metadata": {},
     "source": [
      "so we would only expect to get one real root.  Which we did."
     ]
    },
    {
     "cell_type": "markdown",
     "metadata": {},
     "source": [
      ":)  This is modularity.  If you really want to appreciate this, try redoing everything with Excel.  Heck, try Matlab! Go on, I dare ya' ... And y' ain't seen nothin' yet!"
     ]
    },
    {
     "cell_type": "heading",
     "level": 2,
     "metadata": {},
     "source": [
      "Object Oriented Plotting: matplotlib.pyplot"
     ]
    },
    {
     "cell_type": "markdown",
     "metadata": {},
     "source": [
      "We have already seen how to use $pylab$.  But pylab is just a lame-ass compromise solution meant to wean people off Matlab and their ilk.  For really elegant code, we need OO (Object Oriented) 'ness.  So we have the following: "
     ]
    },
    {
     "cell_type": "code",
     "collapsed": false,
     "input": [
      "import matplotlib"
     ],
     "language": "python",
     "metadata": {},
     "outputs": []
    }
   ],
   "metadata": {}
  }
 ]
}